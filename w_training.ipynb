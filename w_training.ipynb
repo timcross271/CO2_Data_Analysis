{
 "cells": [
  {
   "cell_type": "code",
   "execution_count": 2,
   "metadata": {},
   "outputs": [],
   "source": [
    "import pandas as pd\n",
    "import matplotlib.pyplot as plt"
   ]
  },
  {
   "cell_type": "code",
   "execution_count": 3,
   "metadata": {},
   "outputs": [
    {
     "name": "stdout",
     "output_type": "stream",
     "text": [
      "1.4.2\n"
     ]
    }
   ],
   "source": [
    "print(pd.__version__)"
   ]
  },
  {
   "cell_type": "code",
   "execution_count": 4,
   "metadata": {},
   "outputs": [
    {
     "name": "stdout",
     "output_type": "stream",
     "text": [
      "b    7\n",
      "c    2\n",
      "dtype: int64\n"
     ]
    }
   ],
   "source": [
    "list_1=[1, 7, 2]\n",
    "\n",
    "series_1=pd.Series(list_1, index=['a','b','c'])\n",
    "\n",
    "# print(list_1)\n",
    "# print(series_1)\n",
    "\n",
    "series_2=pd.Series(series_1, index=['b','c'])\n",
    "print(series_2)"
   ]
  },
  {
   "cell_type": "code",
   "execution_count": 5,
   "metadata": {},
   "outputs": [
    {
     "data": {
      "text/plain": [
       "2"
      ]
     },
     "execution_count": 5,
     "metadata": {},
     "output_type": "execute_result"
    }
   ],
   "source": [
    "series_1['c']"
   ]
  },
  {
   "cell_type": "code",
   "execution_count": 6,
   "metadata": {},
   "outputs": [
    {
     "name": "stdout",
     "output_type": "stream",
     "text": [
      "day3    390\n",
      "dtype: int64\n"
     ]
    }
   ],
   "source": [
    "\n",
    "\n",
    "calories = {\"day1\": 420, \"day2\": 380, \"day3\": 390}\n",
    "\n",
    "myvar = pd.Series(calories, index=['day3'])\n",
    "\n",
    "print(myvar)"
   ]
  },
  {
   "cell_type": "code",
   "execution_count": 7,
   "metadata": {},
   "outputs": [
    {
     "name": "stdout",
     "output_type": "stream",
     "text": [
      "      Calories  Duration\n",
      "Day1       420        50\n",
      "Day2       380        40\n",
      "Day3       390        45\n"
     ]
    }
   ],
   "source": [
    "list_c=[420, 380, 390]\n",
    "list_d=[50, 40, 45]\n",
    "\n",
    "series_c=pd.Series(list_c, name='Calories')\n",
    "series_d=pd.Series(list_d, name='Duration')\n",
    "\n",
    "df_cd=pd.concat([series_c,series_d], axis=1)\n",
    "df_cd.index=['Day1','Day2','Day3']\n",
    "\n",
    "print(df_cd)"
   ]
  },
  {
   "cell_type": "code",
   "execution_count": 8,
   "metadata": {},
   "outputs": [
    {
     "data": {
      "text/plain": [
       "Calories    390\n",
       "Duration     45\n",
       "Name: Day3, dtype: int64"
      ]
     },
     "execution_count": 8,
     "metadata": {},
     "output_type": "execute_result"
    }
   ],
   "source": [
    "df_cd.loc['Day3']\n"
   ]
  },
  {
   "cell_type": "code",
   "execution_count": 9,
   "metadata": {},
   "outputs": [
    {
     "data": {
      "text/html": [
       "<div>\n",
       "<style scoped>\n",
       "    .dataframe tbody tr th:only-of-type {\n",
       "        vertical-align: middle;\n",
       "    }\n",
       "\n",
       "    .dataframe tbody tr th {\n",
       "        vertical-align: top;\n",
       "    }\n",
       "\n",
       "    .dataframe thead th {\n",
       "        text-align: right;\n",
       "    }\n",
       "</style>\n",
       "<table border=\"1\" class=\"dataframe\">\n",
       "  <thead>\n",
       "    <tr style=\"text-align: right;\">\n",
       "      <th></th>\n",
       "      <th>calories</th>\n",
       "      <th>duration</th>\n",
       "      <th>size</th>\n",
       "    </tr>\n",
       "  </thead>\n",
       "  <tbody>\n",
       "    <tr>\n",
       "      <th>0</th>\n",
       "      <td>420</td>\n",
       "      <td>50</td>\n",
       "      <td>10</td>\n",
       "    </tr>\n",
       "    <tr>\n",
       "      <th>1</th>\n",
       "      <td>380</td>\n",
       "      <td>40</td>\n",
       "      <td>15</td>\n",
       "    </tr>\n",
       "    <tr>\n",
       "      <th>2</th>\n",
       "      <td>390</td>\n",
       "      <td>45</td>\n",
       "      <td>20</td>\n",
       "    </tr>\n",
       "  </tbody>\n",
       "</table>\n",
       "</div>"
      ],
      "text/plain": [
       "   calories  duration  size\n",
       "0       420        50    10\n",
       "1       380        40    15\n",
       "2       390        45    20"
      ]
     },
     "execution_count": 9,
     "metadata": {},
     "output_type": "execute_result"
    }
   ],
   "source": [
    "data = {\n",
    "  \"calories\": [420, 380, 390],\n",
    "  \"duration\": [50, 40, 45],\n",
    "  \"size\": [10, 15, 20]\n",
    "}\n",
    "\n",
    "#load data into a DataFrame object:\n",
    "df = pd.DataFrame(data)\n",
    "df"
   ]
  },
  {
   "cell_type": "code",
   "execution_count": 10,
   "metadata": {},
   "outputs": [],
   "source": [
    "pd.options.display.max_rows=100"
   ]
  },
  {
   "cell_type": "code",
   "execution_count": 11,
   "metadata": {},
   "outputs": [
    {
     "data": {
      "text/plain": [
       "Duration     45.0\n",
       "Pulse       107.0\n",
       "Maxpulse    137.0\n",
       "Calories    300.0\n",
       "Name: 91, dtype: float64"
      ]
     },
     "execution_count": 11,
     "metadata": {},
     "output_type": "execute_result"
    }
   ],
   "source": [
    "df=pd.read_csv('data.csv')\n",
    "\n",
    "# Remove rows with null values\n",
    "# df.dropna(inplace = True)\n",
    "\n",
    "# Replace nan values with 130 in Calories Column\n",
    "# df['Calories'].fillna(130, inplace = True)\n",
    "\n",
    "# Replace nan values with mean in Calories Column\n",
    "# x=df['Calories'].mean()\n",
    "# df['Calories'].fillna(x, inplace = True)\n",
    "\n",
    "# Replace nan values with median in Calories Column\n",
    "# x=df['Calories'].median()\n",
    "# df['Calories'].fillna(x, inplace = True)\n",
    "\n",
    "# Replace nan values with mode in Calories Column\n",
    "x=df['Calories'].mode()[0]\n",
    "df['Calories'].fillna(x, inplace = True)\n",
    "\n",
    "df.loc[91]\n",
    "# df.info()\n"
   ]
  },
  {
   "cell_type": "code",
   "execution_count": 12,
   "metadata": {},
   "outputs": [],
   "source": [
    "df2=pd.read_csv('data_2.csv')\n",
    "\n",
    "x=df2['Calories'].median()\n",
    "df2['Calories'].fillna(x, inplace = True)\n",
    "\n",
    "df2['Date'] = pd.to_datetime(df2['Date'])\n",
    "\n",
    "df2.dropna(subset='Date',inplace = True)\n",
    "\n",
    "# df2.loc[7,'Duration']=45\n",
    "\n",
    "\n",
    "for x in df2.index:\n",
    "  if df2.loc[x, \"Duration\"] > 120:\n",
    "    df2.loc[x, 'Duration']=120\n",
    "\n",
    "\n",
    "# for x in df2.index:\n",
    "#   if df2.loc[x, \"Duration\"] > 120:\n",
    "#     df2.drop(x, inplace=True)\n",
    "\n",
    "\n",
    "\n",
    "df2.drop_duplicates(inplace=True)\n",
    "\n",
    "\n"
   ]
  },
  {
   "cell_type": "code",
   "execution_count": 19,
   "metadata": {},
   "outputs": [
    {
     "data": {
      "image/png": "[encoded data removed]",
      "text/plain": [
       "<Figure size 432x288 with 1 Axes>"
      ]
     },
     "metadata": {
      "needs_background": "light"
     },
     "output_type": "display_data"
    }
   ],
   "source": [
    "df3=pd.read_csv('data_3.csv')\n",
    "\n",
    "df3.corr()\n",
    "\n",
    "# df3.plot(kind='scatter',x='Duration',y='Calories')\n",
    "\n",
    "df3['Duration'].plot(kind='hist')\n",
    "\n",
    "plt.show()"
   ]
  }
 ],
 "metadata": {
  "kernelspec": {
   "display_name": "base",
   "language": "python",
   "name": "python3"
  },
  "language_info": {
   "codemirror_mode": {
    "name": "ipython",
    "version": 3
   },
   "file_extension": ".py",
   "mimetype": "text/x-python",
   "name": "python",
   "nbconvert_exporter": "python",
   "pygments_lexer": "ipython3",
   "version": "3.9.11"
  }
 },
 "nbformat": 4,
 "nbformat_minor": 2
}
