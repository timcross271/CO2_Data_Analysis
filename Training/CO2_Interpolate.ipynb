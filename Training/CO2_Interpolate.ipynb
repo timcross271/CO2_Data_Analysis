{
 "cells": [
  {
   "cell_type": "markdown",
   "metadata": {},
   "source": [
    "### Plot Access to electricity (% of population) for the countries that have nans for this category.\n",
    "first define a data frame for each of these countries. We start with Korea, Dem."
   ]
  },
  {
   "cell_type": "code",
   "execution_count": 4,
   "metadata": {},
   "outputs": [],
   "source": [
    "import pandas as pd\n",
    "import numpy as np\n",
    "import matplotlib.pylab as pl\n",
    "\n",
    "df_pivot3=pd.read_csv('../Data/CO2_pivot_noCO2_insfData_120.csv')"
   ]
  },
  {
   "cell_type": "code",
   "execution_count": 5,
   "metadata": {},
   "outputs": [],
   "source": [
    "df=df_pivot3[df_pivot3['Country Name']==\"Korea, Dem. People's Rep.\"]"
   ]
  },
  {
   "cell_type": "markdown",
   "metadata": {},
   "source": [
    "Now that we have a new data frame for Korea we can call the columns that we want to use for plotting. These are the years on the x=axis and the Access to electricity (% of population) on the y-axis"
   ]
  },
  {
   "cell_type": "code",
   "execution_count": 6,
   "metadata": {},
   "outputs": [
    {
     "data": {
      "text/plain": [
       "[<matplotlib.lines.Line2D at 0x14fd79160>]"
      ]
     },
     "execution_count": 6,
     "metadata": {},
     "output_type": "execute_result"
    },
    {
     "data": {
      "image/png": "[encoded data removed]",
      "text/plain": [
       "<Figure size 432x288 with 1 Axes>"
      ]
     },
     "metadata": {
      "needs_background": "light"
     },
     "output_type": "display_data"
    }
   ],
   "source": [
    "x=df['Year']\n",
    "y=df['Access to electricity (% of population)']\n",
    "pl.plot(x,y, c='r')"
   ]
  },
  {
   "cell_type": "markdown",
   "metadata": {},
   "source": [
    "We see that the relation is mostly linear by visually inspecting the plot. There is a kink at 2010 and data from before 2009 are missing. We decide to use linear extrapolation to fill in the missing data. "
   ]
  },
  {
   "cell_type": "code",
   "execution_count": null,
   "metadata": {},
   "outputs": [
    {
     "name": "stdout",
     "output_type": "stream",
     "text": [
      "0.5     NaN\n",
      "1.0     1.0\n",
      "1.5     2.5\n",
      "2.0     4.0\n",
      "2.5     6.5\n",
      "3.0     9.0\n",
      "20.0    9.0\n",
      "dtype: float64\n"
     ]
    }
   ],
   "source": [
    "# A 1-D Series with missing external values\n",
    "x = [0.5, 1, 1.5, 2, 2.5, 3, 20]\n",
    "y = [np.NaN, 1, np.NaN, 4, np.NaN, 9, np.NaN]\n",
    "s = pd.Series(y, index=x)\n",
    "print(s.interpolate(method=\"linear\", limit_direction=None))"
   ]
  },
  {
   "cell_type": "code",
   "execution_count": null,
   "metadata": {},
   "outputs": [
    {
     "data": {
      "text/plain": [
       "Year\n",
       "2004   NaN\n",
       "2005   NaN\n",
       "2006   NaN\n",
       "2007   NaN\n",
       "2008   NaN\n",
       "2009   NaN\n",
       "2010   NaN\n",
       "2011   NaN\n",
       "2012   NaN\n",
       "2013   NaN\n",
       "2014   NaN\n",
       "2015   NaN\n",
       "2016   NaN\n",
       "2017   NaN\n",
       "2018   NaN\n",
       "2019   NaN\n",
       "2020   NaN\n",
       "Name: Access to electricity (% of population), dtype: float64"
      ]
     },
     "metadata": {},
     "output_type": "display_data"
    }
   ],
   "source": [
    "\n",
    "x=df['Year']\n",
    "y=df['Access to electricity (% of population)']\n",
    "s = pd.Series(y, index=x)\n",
    "# Expected usage\n",
    "#print(s.interpolate(method=\"index\", limit_direction=\"both\"))\n",
    "s"
   ]
  },
  {
   "cell_type": "code",
   "execution_count": null,
   "metadata": {},
   "outputs": [
    {
     "data": {
      "text/plain": [
       "2125     NaN\n",
       "2126     NaN\n",
       "2127     NaN\n",
       "2128     NaN\n",
       "2129     NaN\n",
       "2130    26.0\n",
       "2131    29.3\n",
       "2132    31.4\n",
       "2133    33.6\n",
       "2134    35.7\n",
       "2135    37.8\n",
       "2136    40.0\n",
       "2137    42.1\n",
       "2138    44.2\n",
       "2139    46.3\n",
       "2140    48.4\n",
       "2141    50.5\n",
       "Name: Access to electricity (% of population), dtype: float64"
      ]
     },
     "metadata": {},
     "output_type": "display_data"
    }
   ],
   "source": [
    "df.interpolate(method ='index',limit_direction='both')\n",
    "df['Access to electricity (% of population)']"
   ]
  },
  {
   "cell_type": "code",
   "execution_count": null,
   "metadata": {},
   "outputs": [
    {
     "name": "stderr",
     "output_type": "stream",
     "text": [
      "/var/folders/8j/2xw6vvr51bsczxp4p37711lx24bqhv/T/ipykernel_6888/2180934195.py:5: FutureWarning: In a future version of pandas all arguments of DataFrame.drop except for the argument 'labels' will be keyword-only.\n",
      "  df_in.drop(df_in.columns.difference(['Country Name','Year','CO2 emissions (kt)','GDP (current US$)','Population, total']), 1, inplace=True)\n"
     ]
    },
    {
     "data": {
      "text/html": [
       "<div>\n",
       "<style scoped>\n",
       "    .dataframe tbody tr th:only-of-type {\n",
       "        vertical-align: middle;\n",
       "    }\n",
       "\n",
       "    .dataframe tbody tr th {\n",
       "        vertical-align: top;\n",
       "    }\n",
       "\n",
       "    .dataframe thead th {\n",
       "        text-align: right;\n",
       "    }\n",
       "</style>\n",
       "<table border=\"1\" class=\"dataframe\">\n",
       "  <thead>\n",
       "    <tr style=\"text-align: right;\">\n",
       "      <th></th>\n",
       "      <th>Country Name</th>\n",
       "      <th>Year</th>\n",
       "      <th>CO2 emissions (kt)</th>\n",
       "      <th>Population, total</th>\n",
       "    </tr>\n",
       "  </thead>\n",
       "  <tbody>\n",
       "    <tr>\n",
       "      <th>0</th>\n",
       "      <td>Afghanistan</td>\n",
       "      <td>2004</td>\n",
       "      <td>1292.307</td>\n",
       "      <td>23553551.0</td>\n",
       "    </tr>\n",
       "    <tr>\n",
       "      <th>1</th>\n",
       "      <td>Afghanistan</td>\n",
       "      <td>2005</td>\n",
       "      <td>1961.711</td>\n",
       "      <td>24411191.0</td>\n",
       "    </tr>\n",
       "    <tr>\n",
       "      <th>2</th>\n",
       "      <td>Afghanistan</td>\n",
       "      <td>2006</td>\n",
       "      <td>2283.680</td>\n",
       "      <td>25442944.0</td>\n",
       "    </tr>\n",
       "    <tr>\n",
       "      <th>3</th>\n",
       "      <td>Afghanistan</td>\n",
       "      <td>2007</td>\n",
       "      <td>2847.810</td>\n",
       "      <td>25903301.0</td>\n",
       "    </tr>\n",
       "    <tr>\n",
       "      <th>4</th>\n",
       "      <td>Afghanistan</td>\n",
       "      <td>2008</td>\n",
       "      <td>4375.640</td>\n",
       "      <td>26427199.0</td>\n",
       "    </tr>\n",
       "    <tr>\n",
       "      <th>...</th>\n",
       "      <td>...</td>\n",
       "      <td>...</td>\n",
       "      <td>...</td>\n",
       "      <td>...</td>\n",
       "    </tr>\n",
       "    <tr>\n",
       "      <th>4058</th>\n",
       "      <td>Zimbabwe</td>\n",
       "      <td>2016</td>\n",
       "      <td>10450.200</td>\n",
       "      <td>14452704.0</td>\n",
       "    </tr>\n",
       "    <tr>\n",
       "      <th>4059</th>\n",
       "      <td>Zimbabwe</td>\n",
       "      <td>2017</td>\n",
       "      <td>9781.000</td>\n",
       "      <td>14751101.0</td>\n",
       "    </tr>\n",
       "    <tr>\n",
       "      <th>4060</th>\n",
       "      <td>Zimbabwe</td>\n",
       "      <td>2018</td>\n",
       "      <td>11069.900</td>\n",
       "      <td>15052184.0</td>\n",
       "    </tr>\n",
       "    <tr>\n",
       "      <th>4061</th>\n",
       "      <td>Zimbabwe</td>\n",
       "      <td>2019</td>\n",
       "      <td>10185.300</td>\n",
       "      <td>15354608.0</td>\n",
       "    </tr>\n",
       "    <tr>\n",
       "      <th>4062</th>\n",
       "      <td>Zimbabwe</td>\n",
       "      <td>2020</td>\n",
       "      <td>8312.500</td>\n",
       "      <td>15669666.0</td>\n",
       "    </tr>\n",
       "  </tbody>\n",
       "</table>\n",
       "<p>4063 rows × 4 columns</p>\n",
       "</div>"
      ],
      "text/plain": [
       "     Country Name  Year  CO2 emissions (kt)  Population, total\n",
       "0     Afghanistan  2004            1292.307         23553551.0\n",
       "1     Afghanistan  2005            1961.711         24411191.0\n",
       "2     Afghanistan  2006            2283.680         25442944.0\n",
       "3     Afghanistan  2007            2847.810         25903301.0\n",
       "4     Afghanistan  2008            4375.640         26427199.0\n",
       "...           ...   ...                 ...                ...\n",
       "4058     Zimbabwe  2016           10450.200         14452704.0\n",
       "4059     Zimbabwe  2017            9781.000         14751101.0\n",
       "4060     Zimbabwe  2018           11069.900         15052184.0\n",
       "4061     Zimbabwe  2019           10185.300         15354608.0\n",
       "4062     Zimbabwe  2020            8312.500         15669666.0\n",
       "\n",
       "[4063 rows x 4 columns]"
      ]
     },
     "metadata": {},
     "output_type": "display_data"
    }
   ],
   "source": [
    "\n",
    "df_in=pd.read_csv('CO2_df_pivot.csv')\n",
    "# df_in.columns\n",
    "# df_pr.columns\n",
    "\n",
    "df_in.drop(df_in.columns.difference(['Country Name','Year','CO2 emissions (kt)','GDP (current US$)','Population, total']), 1, inplace=True)\n",
    "\n",
    "df_in.to_csv('CO2 Reduced Data.csv')\n",
    "\n",
    "df_in"
   ]
  }
 ],
 "metadata": {
  "kernelspec": {
   "display_name": "base",
   "language": "python",
   "name": "python3"
  },
  "language_info": {
   "codemirror_mode": {
    "name": "ipython",
    "version": 3
   },
   "file_extension": ".py",
   "mimetype": "text/x-python",
   "name": "python",
   "nbconvert_exporter": "python",
   "pygments_lexer": "ipython3",
   "version": "3.9.11"
  }
 },
 "nbformat": 4,
 "nbformat_minor": 2
}
