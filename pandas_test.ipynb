{
 "cells": [
  {
   "cell_type": "code",
   "execution_count": null,
   "metadata": {},
   "outputs": [],
   "source": [
    "import pandas as pd\n",
    "import numpy as np\n",
    "import matplotlib.pylab as pl"
   ]
  },
  {
   "cell_type": "code",
   "execution_count": null,
   "metadata": {},
   "outputs": [],
   "source": [
    "df_test = pd.DataFrame({\"Country Name\": [\"Afghan\", \"Afghan\", \"Afghan\", \"Afghan\", \"Iran\",\n",
    "                         \"Iran\", \"Iran\", \"Iran\"],\n",
    "                   \"Year\": [\"2004\", \"2004\", \"2005\", \"2005\", \"2004\",\n",
    "                         \"2004\", \"2005\", \"2005\"],\n",
    "                   \"Series Name\": [\"CO2\", \"Oil\", \"CO2\", \"Oil\",\n",
    "                         \"CO2\", \"Oil\", \"CO2\", \"Oil\"],\n",
    "                   \"Value\": [1,2, 3, 4, 5, 6,7,8]})\n",
    "\n",
    "df_test"
   ]
  },
  {
   "cell_type": "code",
   "execution_count": null,
   "metadata": {},
   "outputs": [],
   "source": [
    "df_p = df_test.pivot_table(values='Value', index=['Country Name','Year'], columns='Series Name')\n",
    "df_p.reset_index(inplace=True)\n",
    "df_p.columns.name = None\n",
    "df_p"
   ]
  }
 ],
 "metadata": {
  "language_info": {
   "name": "python"
  }
 },
 "nbformat": 4,
 "nbformat_minor": 2
}
