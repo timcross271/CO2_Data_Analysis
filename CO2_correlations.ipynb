{
 "cells": [
  {
   "cell_type": "markdown",
   "metadata": {},
   "source": [
    "### Correlations for CO2/GDP/Pop\n",
    "\n",
    "Analysis of correlations between the 3 initial variables CO2, GDP and Population."
   ]
  },
  {
   "cell_type": "code",
   "execution_count": 76,
   "metadata": {},
   "outputs": [],
   "source": [
    "import pandas as pd\n",
    "import numpy as np\n",
    "import matplotlib.pylab as pl"
   ]
  },
  {
   "cell_type": "markdown",
   "metadata": {},
   "source": [
    "Read in data file"
   ]
  },
  {
   "cell_type": "code",
   "execution_count": 77,
   "metadata": {},
   "outputs": [],
   "source": [
    "df=pd.read_csv('CO2_pivot_noCO2_930.csv')\n",
    "\n",
    "# Remove all 2020 rows\n",
    "df=df.drop(df[df['Year'] == 2020].index)\n",
    "\n"
   ]
  },
  {
   "cell_type": "markdown",
   "metadata": {},
   "source": [
    "Remove all non-country entries, and add them to a new dataframe"
   ]
  },
  {
   "cell_type": "code",
   "execution_count": 78,
   "metadata": {},
   "outputs": [
    {
     "name": "stdout",
     "output_type": "stream",
     "text": [
      "(3056, 931)\n"
     ]
    }
   ],
   "source": [
    "non_country=['Africa Eastern and Southern','Africa Western and Central','Arab World','Caribbean small states','Central Europe and the Baltics','Early-demographic dividend','East Asia & Pacific','East Asia & Pacific (IDA & IBRD countries)','East Asia & Pacific (excluding high income)','Euro area','Europe & Central Asia','Europe & Central Asia (IDA & IBRD countries)','Europe & Central Asia (excluding high income)','European Union','Fragile and conflict affected situations','Heavily indebted poor countries (HIPC)','High income','IBRD only','IDA & IBRD total','IDA blend','IDA only','IDA total','Late-demographic dividend','Latin America & Caribbean','Latin America & Caribbean (excluding high income)','Latin America & the Caribbean (IDA & IBRD countries)','Least developed countries: UN classification','Low & middle income','Low income','Lower middle income','Middle East & North Africa','Middle East & North Africa (IDA & IBRD countries)','Middle East & North Africa (excluding high income)','Middle income','North America','OECD members','Other small states','Pacific island small states','Post-demographic dividend','Pre-demographic dividend','Small states','South Asia','South Asia (IDA & IBRD)','Sub-Saharan Africa','Sub-Saharan Africa (IDA & IBRD countries)','Sub-Saharan Africa (excluding high income)','Upper middle income','World',]\n",
    "for count in non_country:\n",
    "    df=df.drop(df[df['Country Name'] == count].index)\n",
    "\n",
    "print(df.shape)\n",
    "\n",
    "df.to_csv('CO2_pivot_noCO2_Countries_930.csv')\n",
    "\n"
   ]
  },
  {
   "cell_type": "markdown",
   "metadata": {},
   "source": [
    "Create columns for CO2 per Capita and GDP per capita"
   ]
  },
  {
   "cell_type": "code",
   "execution_count": 79,
   "metadata": {},
   "outputs": [
    {
     "data": {
      "text/plain": [
       "3859    40366.970642\n",
       "3860    42104.788438\n",
       "3861    44512.433024\n",
       "3862    50397.682167\n",
       "3863    47396.091656\n",
       "3864    38744.131593\n",
       "3865    39598.915757\n",
       "3866    42109.707723\n",
       "3867    42497.344789\n",
       "3868    43426.243523\n",
       "3869    47439.643711\n",
       "3870    44964.373622\n",
       "3871    40985.287463\n",
       "3872    40572.150966\n",
       "3873    43203.808876\n",
       "3874    42662.577792\n",
       "Name: GDP per capita, dtype: float64"
      ]
     },
     "execution_count": 79,
     "metadata": {},
     "output_type": "execute_result"
    }
   ],
   "source": [
    "df['CO2 per capita']=df['CO2 emissions (kt)']/df['Population, total']\n",
    "df['GDP per capita']=df['GDP (current US$)']/df['Population, total']\n",
    "\n",
    "df[(df['Country Name']=='United Kingdom')]['GDP per capita']\n",
    "# df[(df['Country Name']==count)]['GDP (current US$)']"
   ]
  },
  {
   "cell_type": "markdown",
   "metadata": {},
   "source": [
    "Create list of catagories"
   ]
  },
  {
   "cell_type": "code",
   "execution_count": 80,
   "metadata": {},
   "outputs": [
    {
     "name": "stdout",
     "output_type": "stream",
     "text": [
      "(3056, 933)\n",
      "                                                     0\n",
      "0                                           Unnamed: 0\n",
      "1                                         Country Name\n",
      "2                                                 Year\n",
      "3    ARI treatment (% of children under 5 taken to ...\n",
      "4    Access to clean fuels and technologies for coo...\n",
      "..                                                 ...\n",
      "928  Women who were first married by age 18 (% of w...\n",
      "929  Women's share of population ages 15+ living wi...\n",
      "930  Young people (ages 15-24) newly infected with HIV\n",
      "931                                     CO2 per capita\n",
      "932                                     GDP per capita\n",
      "\n",
      "[933 rows x 1 columns]\n"
     ]
    }
   ],
   "source": [
    "print(df.shape)\n",
    "\n",
    "cats=pd.DataFrame(df.columns.values)\n",
    "cats.drop(1)\n",
    "\n",
    "cats.to_csv('Series_names.csv')\n",
    "# type(cats)\n",
    "print(cats)"
   ]
  },
  {
   "cell_type": "markdown",
   "metadata": {},
   "source": [
    "Remove un-wanted index column"
   ]
  },
  {
   "cell_type": "code",
   "execution_count": 81,
   "metadata": {},
   "outputs": [],
   "source": [
    "%%capture\n",
    "# print(df)\n",
    "df=df.drop('Unnamed: 0',1)\n",
    "# df.shape"
   ]
  },
  {
   "cell_type": "markdown",
   "metadata": {},
   "source": [
    "Testing looking up one country and one year"
   ]
  },
  {
   "cell_type": "code",
   "execution_count": 82,
   "metadata": {},
   "outputs": [],
   "source": [
    "afganisatan=df[(df['Country Name']=='Afghanistan')&(df['Year']==2008)]\n",
    "# print(afganisatan)"
   ]
  },
  {
   "cell_type": "markdown",
   "metadata": {},
   "source": [
    "Creating correlations for all 3 series. Then adding all the outcomes to a new dataframe, corrlist."
   ]
  },
  {
   "cell_type": "code",
   "execution_count": 112,
   "metadata": {},
   "outputs": [
    {
     "data": {
      "text/html": [
       "<div>\n",
       "<style scoped>\n",
       "    .dataframe tbody tr th:only-of-type {\n",
       "        vertical-align: middle;\n",
       "    }\n",
       "\n",
       "    .dataframe tbody tr th {\n",
       "        vertical-align: top;\n",
       "    }\n",
       "\n",
       "    .dataframe thead th {\n",
       "        text-align: right;\n",
       "    }\n",
       "</style>\n",
       "<table border=\"1\" class=\"dataframe\">\n",
       "  <thead>\n",
       "    <tr style=\"text-align: right;\">\n",
       "      <th></th>\n",
       "      <th>Country Name</th>\n",
       "      <th>CO2/GDP</th>\n",
       "      <th>CO2/Pop</th>\n",
       "      <th>GDP/Pop</th>\n",
       "      <th>CO2 capita/GDP capita</th>\n",
       "      <th>CO2 capita/Pop</th>\n",
       "      <th>GDP capita/Pop</th>\n",
       "    </tr>\n",
       "  </thead>\n",
       "  <tbody>\n",
       "    <tr>\n",
       "      <th>0</th>\n",
       "      <td>Afghanistan</td>\n",
       "      <td>0.953843</td>\n",
       "      <td>0.845380</td>\n",
       "      <td>0.843792</td>\n",
       "      <td>0.931860</td>\n",
       "      <td>0.695727</td>\n",
       "      <td>0.644348</td>\n",
       "    </tr>\n",
       "    <tr>\n",
       "      <th>1</th>\n",
       "      <td>Albania</td>\n",
       "      <td>0.728934</td>\n",
       "      <td>-0.799527</td>\n",
       "      <td>-0.892734</td>\n",
       "      <td>0.789627</td>\n",
       "      <td>-0.851255</td>\n",
       "      <td>-0.907889</td>\n",
       "    </tr>\n",
       "    <tr>\n",
       "      <th>2</th>\n",
       "      <td>Algeria</td>\n",
       "      <td>0.694246</td>\n",
       "      <td>0.990865</td>\n",
       "      <td>0.658552</td>\n",
       "      <td>0.523238</td>\n",
       "      <td>0.965950</td>\n",
       "      <td>0.403453</td>\n",
       "    </tr>\n",
       "    <tr>\n",
       "      <th>3</th>\n",
       "      <td>Andorra</td>\n",
       "      <td>0.394701</td>\n",
       "      <td>0.766787</td>\n",
       "      <td>0.209314</td>\n",
       "      <td>0.341128</td>\n",
       "      <td>0.259760</td>\n",
       "      <td>-0.169216</td>\n",
       "    </tr>\n",
       "    <tr>\n",
       "      <th>4</th>\n",
       "      <td>Angola</td>\n",
       "      <td>0.578267</td>\n",
       "      <td>0.763355</td>\n",
       "      <td>0.350326</td>\n",
       "      <td>0.496977</td>\n",
       "      <td>0.023049</td>\n",
       "      <td>0.040203</td>\n",
       "    </tr>\n",
       "    <tr>\n",
       "      <th>...</th>\n",
       "      <td>...</td>\n",
       "      <td>...</td>\n",
       "      <td>...</td>\n",
       "      <td>...</td>\n",
       "      <td>...</td>\n",
       "      <td>...</td>\n",
       "      <td>...</td>\n",
       "    </tr>\n",
       "    <tr>\n",
       "      <th>186</th>\n",
       "      <td>Venezuela, RB</td>\n",
       "      <td>0.846195</td>\n",
       "      <td>0.274444</td>\n",
       "      <td>0.946450</td>\n",
       "      <td>0.650695</td>\n",
       "      <td>-0.124547</td>\n",
       "      <td>0.930116</td>\n",
       "    </tr>\n",
       "    <tr>\n",
       "      <th>187</th>\n",
       "      <td>Viet Nam</td>\n",
       "      <td>0.950888</td>\n",
       "      <td>0.947778</td>\n",
       "      <td>0.995398</td>\n",
       "      <td>0.940201</td>\n",
       "      <td>0.946655</td>\n",
       "      <td>0.994372</td>\n",
       "    </tr>\n",
       "    <tr>\n",
       "      <th>188</th>\n",
       "      <td>Yemen, Rep.</td>\n",
       "      <td>0.144301</td>\n",
       "      <td>-0.633956</td>\n",
       "      <td>0.580068</td>\n",
       "      <td>0.153092</td>\n",
       "      <td>-0.824813</td>\n",
       "      <td>0.319294</td>\n",
       "    </tr>\n",
       "    <tr>\n",
       "      <th>189</th>\n",
       "      <td>Zambia</td>\n",
       "      <td>0.687603</td>\n",
       "      <td>0.954729</td>\n",
       "      <td>0.814469</td>\n",
       "      <td>0.370114</td>\n",
       "      <td>0.935116</td>\n",
       "      <td>0.560745</td>\n",
       "    </tr>\n",
       "    <tr>\n",
       "      <th>190</th>\n",
       "      <td>Zimbabwe</td>\n",
       "      <td>0.567106</td>\n",
       "      <td>0.376762</td>\n",
       "      <td>0.891280</td>\n",
       "      <td>0.130963</td>\n",
       "      <td>-0.182500</td>\n",
       "      <td>0.857845</td>\n",
       "    </tr>\n",
       "  </tbody>\n",
       "</table>\n",
       "<p>191 rows × 7 columns</p>\n",
       "</div>"
      ],
      "text/plain": [
       "      Country Name   CO2/GDP   CO2/Pop   GDP/Pop  CO2 capita/GDP capita  \\\n",
       "0      Afghanistan  0.953843  0.845380  0.843792               0.931860   \n",
       "1          Albania  0.728934 -0.799527 -0.892734               0.789627   \n",
       "2          Algeria  0.694246  0.990865  0.658552               0.523238   \n",
       "3          Andorra  0.394701  0.766787  0.209314               0.341128   \n",
       "4           Angola  0.578267  0.763355  0.350326               0.496977   \n",
       "..             ...       ...       ...       ...                    ...   \n",
       "186  Venezuela, RB  0.846195  0.274444  0.946450               0.650695   \n",
       "187       Viet Nam  0.950888  0.947778  0.995398               0.940201   \n",
       "188    Yemen, Rep.  0.144301 -0.633956  0.580068               0.153092   \n",
       "189         Zambia  0.687603  0.954729  0.814469               0.370114   \n",
       "190       Zimbabwe  0.567106  0.376762  0.891280               0.130963   \n",
       "\n",
       "     CO2 capita/Pop  GDP capita/Pop  \n",
       "0          0.695727        0.644348  \n",
       "1         -0.851255       -0.907889  \n",
       "2          0.965950        0.403453  \n",
       "3          0.259760       -0.169216  \n",
       "4          0.023049        0.040203  \n",
       "..              ...             ...  \n",
       "186       -0.124547        0.930116  \n",
       "187        0.946655        0.994372  \n",
       "188       -0.824813        0.319294  \n",
       "189        0.935116        0.560745  \n",
       "190       -0.182500        0.857845  \n",
       "\n",
       "[191 rows x 7 columns]"
      ]
     },
     "execution_count": 112,
     "metadata": {},
     "output_type": "execute_result"
    }
   ],
   "source": [
    "countries=df['Country Name'].unique()\n",
    "corrlist=pd.DataFrame(df['Country Name'].unique())\n",
    "corrlist.columns=['Country Name']\n",
    "co2_gdp_cor=[]\n",
    "co2_pop_cor=[]\n",
    "gdp_pop_cor=[]\n",
    "co2_gdp_capita_cor=[]\n",
    "co2_pop_capita_cor=[]\n",
    "gdp_pop_capita_cor=[]\n",
    "\n",
    "\n",
    "for count in countries:\n",
    "    cor=df[(df['Country Name']==count)]['CO2 emissions (kt)'].corr(df[(df['Country Name']==count)]['GDP (current US$)'])\n",
    "    co2_gdp_cor.append(cor)\n",
    "    cor=df[(df['Country Name']==count)]['CO2 emissions (kt)'].corr(df[(df['Country Name']==count)]['Population, total'])\n",
    "    co2_pop_cor.append(cor)\n",
    "    cor=df[(df['Country Name']==count)]['GDP (current US$)'].corr(df[(df['Country Name']==count)]['Population, total'])\n",
    "    gdp_pop_cor.append(cor)\n",
    "    cor=df[(df['Country Name']==count)]['CO2 per capita'].corr(df[(df['Country Name']==count)]['GDP per capita'])\n",
    "    co2_gdp_capita_cor.append(cor)\n",
    "    cor=df[(df['Country Name']==count)]['CO2 per capita'].corr(df[(df['Country Name']==count)]['Population, total'])\n",
    "    co2_pop_capita_cor.append(cor)\n",
    "    cor=df[(df['Country Name']==count)]['GDP per capita'].corr(df[(df['Country Name']==count)]['Population, total'])\n",
    "    gdp_pop_capita_cor.append(cor)\n",
    "\n",
    "corrlist['CO2/GDP']=co2_gdp_cor\n",
    "\n",
    "corrlist['CO2/Pop']=co2_pop_cor\n",
    "\n",
    "corrlist['GDP/Pop']=gdp_pop_cor\n",
    "\n",
    "corrlist['CO2 capita/GDP capita']=co2_gdp_capita_cor\n",
    "\n",
    "corrlist['CO2 capita/Pop']=co2_pop_capita_cor\n",
    "\n",
    "corrlist['GDP capita/Pop']=gdp_pop_capita_cor\n",
    "\n",
    "\n",
    "corrlist"
   ]
  },
  {
   "cell_type": "markdown",
   "metadata": {},
   "source": [
    "Create histograms of the correlations."
   ]
  },
  {
   "cell_type": "code",
   "execution_count": 126,
   "metadata": {},
   "outputs": [
    {
     "data": {
      "image/png": "[encoded data removed]",
      "text/plain": [
       "<Figure size 432x288 with 1 Axes>"
      ]
     },
     "metadata": {
      "needs_background": "light"
     },
     "output_type": "display_data"
    }
   ],
   "source": [
    "pl.hist(corrlist['CO2/GDP'],bins=8,color='cornflowerblue',edgecolor='black', linewidth=1.2)\n",
    "pl.xlabel('Correlations')\n",
    "pl.ylabel('Number of Countries')\n",
    "pl.title('CO2 and GDP Correlations',loc='center')\n",
    "pl.savefig('Plots/CO2_GDP Correlations.pdf')"
   ]
  },
  {
   "cell_type": "code",
   "execution_count": 127,
   "metadata": {},
   "outputs": [
    {
     "data": {
      "image/png": "[encoded data removed]",
      "text/plain": [
       "<Figure size 432x288 with 1 Axes>"
      ]
     },
     "metadata": {
      "needs_background": "light"
     },
     "output_type": "display_data"
    }
   ],
   "source": [
    "pl.hist(corrlist['CO2/Pop'],bins=8,color='cornflowerblue',edgecolor='black', linewidth=1.2)\n",
    "pl.xlabel('Correlations')\n",
    "pl.ylabel('Number of Countries')\n",
    "pl.title('CO2 and Pop Correlations',loc='center')\n",
    "pl.savefig('Plots/CO2_Pop Correlations.pdf')"
   ]
  },
  {
   "cell_type": "code",
   "execution_count": 128,
   "metadata": {},
   "outputs": [
    {
     "data": {
      "image/png": "[encoded data removed]",
      "text/plain": [
       "<Figure size 432x288 with 1 Axes>"
      ]
     },
     "metadata": {
      "needs_background": "light"
     },
     "output_type": "display_data"
    }
   ],
   "source": [
    "pl.hist(corrlist['GDP/Pop'],bins=8,color='cornflowerblue',edgecolor='black', linewidth=1.2)\n",
    "pl.xlabel('Correlations')\n",
    "pl.ylabel('Number of Countries')\n",
    "pl.title('GDP and Pop Correlations',loc='center')\n",
    "pl.savefig('Plots/GDP_Pop Correlations.pdf')"
   ]
  },
  {
   "cell_type": "markdown",
   "metadata": {},
   "source": [
    "Create a histogram combing all 3 correlations"
   ]
  },
  {
   "cell_type": "code",
   "execution_count": 130,
   "metadata": {},
   "outputs": [
    {
     "data": {
      "image/png": "[encoded data removed]",
      "text/plain": [
       "<Figure size 432x288 with 1 Axes>"
      ]
     },
     "metadata": {
      "needs_background": "light"
     },
     "output_type": "display_data"
    }
   ],
   "source": [
    "pl.hist(corrlist[['CO2/GDP','CO2/Pop','GDP/Pop']],bins=8,range=(-1,1),histtype='bar',edgecolor='black', linewidth=1.2,label=['CO2 and GDP','CO2 and Pop','GDP and Pop'])\n",
    "pl.legend()\n",
    "pl.xlabel('Correlations')\n",
    "pl.ylabel('Number of Countries')\n",
    "pl.savefig('Plots/Combined Correlations.pdf')"
   ]
  },
  {
   "cell_type": "markdown",
   "metadata": {},
   "source": [
    "Create a scatter plot for CO2 - GDP for each country"
   ]
  },
  {
   "cell_type": "code",
   "execution_count": 86,
   "metadata": {},
   "outputs": [],
   "source": [
    "%%capture\n",
    "for count in countries:\n",
    "    GDP=df[(df['Country Name']==count)]['GDP (current US$)']\n",
    "    CO2=df[(df['Country Name']==count)]['CO2 emissions (kt)']\n",
    "    corr=corrlist[corrlist['Country Name']==count]['CO2/GDP']\n",
    "    pl.scatter(GDP,CO2,label='r='+str(np.round(corr.iloc[0],2)))\n",
    "    pl.legend()\n",
    "    pl.title(count)\n",
    "    pl.ylabel('CO2 emissions (kt)')\n",
    "    pl.xlabel('GDP (current US$)')\n",
    "    years=df[(df['Country Name']==count)]['Year']\n",
    "    for i,txt in enumerate(years):\n",
    "        pl.text(GDP.iloc[i],CO2.iloc[i],txt)\n",
    "\n",
    "    pl.savefig('Plots/CO2_GDP Plots/'+ count +' CO2_GDP.pdf')\n",
    "    pl.clf()"
   ]
  },
  {
   "cell_type": "markdown",
   "metadata": {},
   "source": [
    "Create a scatter plot for CO2 per capita - GDP per capita for each country"
   ]
  },
  {
   "cell_type": "code",
   "execution_count": 131,
   "metadata": {},
   "outputs": [],
   "source": [
    "%%capture\n",
    "for count in countries:\n",
    "    GDP=df[(df['Country Name']==count)]['GDP per capita']\n",
    "    CO2=df[(df['Country Name']==count)]['CO2 per capita']\n",
    "    corr=corrlist[corrlist['Country Name']==count]['CO2 capita/GDP capita']\n",
    "    pl.scatter(GDP,CO2*1000,label='r='+str(np.round(corr.iloc[0],2)))\n",
    "    pl.legend()\n",
    "    pl.title(count)\n",
    "    pl.ylabel('CO2 per capita (t)')\n",
    "    pl.xlabel('GDP per capita (US$)')\n",
    "    years=df[(df['Country Name']==count)]['Year']\n",
    "    for i,txt in enumerate(years):\n",
    "        pl.text(GDP.iloc[i],CO2.iloc[i]*1000,txt)\n",
    "\n",
    "    pl.savefig('Plots/CO2_GDP_capita Plots/'+ count +' CO2_GDP_capita.pdf')\n",
    "    pl.clf()"
   ]
  },
  {
   "cell_type": "markdown",
   "metadata": {},
   "source": [
    "Create World Dataframe to include world values from original data.\n",
    "\n",
    "Then calculate CO2 and GDP per capita for world data."
   ]
  },
  {
   "cell_type": "code",
   "execution_count": 88,
   "metadata": {},
   "outputs": [
    {
     "data": {
      "text/html": [
       "<div>\n",
       "<style scoped>\n",
       "    .dataframe tbody tr th:only-of-type {\n",
       "        vertical-align: middle;\n",
       "    }\n",
       "\n",
       "    .dataframe tbody tr th {\n",
       "        vertical-align: top;\n",
       "    }\n",
       "\n",
       "    .dataframe thead th {\n",
       "        text-align: right;\n",
       "    }\n",
       "</style>\n",
       "<table border=\"1\" class=\"dataframe\">\n",
       "  <thead>\n",
       "    <tr style=\"text-align: right;\">\n",
       "      <th></th>\n",
       "      <th>Year</th>\n",
       "      <th>CO2 emissions (kt)</th>\n",
       "      <th>GDP (current US$)</th>\n",
       "      <th>Population, total</th>\n",
       "      <th>CO2 per capita</th>\n",
       "      <th>GDP per capita</th>\n",
       "      <th>Population, average</th>\n",
       "    </tr>\n",
       "  </thead>\n",
       "  <tbody>\n",
       "    <tr>\n",
       "      <th>0</th>\n",
       "      <td>2004</td>\n",
       "      <td>27331852.94</td>\n",
       "      <td>4.411620e+13</td>\n",
       "      <td>6471033757</td>\n",
       "      <td>0.004224</td>\n",
       "      <td>6817.488775</td>\n",
       "      <td>3.387976e+07</td>\n",
       "    </tr>\n",
       "    <tr>\n",
       "      <th>1</th>\n",
       "      <td>2005</td>\n",
       "      <td>28371817.05</td>\n",
       "      <td>4.776030e+13</td>\n",
       "      <td>6552787172</td>\n",
       "      <td>0.004330</td>\n",
       "      <td>7288.547414</td>\n",
       "      <td>3.430779e+07</td>\n",
       "    </tr>\n",
       "    <tr>\n",
       "      <th>2</th>\n",
       "      <td>2006</td>\n",
       "      <td>29308175.54</td>\n",
       "      <td>5.174980e+13</td>\n",
       "      <td>6635162568</td>\n",
       "      <td>0.004417</td>\n",
       "      <td>7799.326613</td>\n",
       "      <td>3.473907e+07</td>\n",
       "    </tr>\n",
       "    <tr>\n",
       "      <th>3</th>\n",
       "      <td>2007</td>\n",
       "      <td>30418994.07</td>\n",
       "      <td>5.831490e+13</td>\n",
       "      <td>6717583637</td>\n",
       "      <td>0.004528</td>\n",
       "      <td>8680.933971</td>\n",
       "      <td>3.517059e+07</td>\n",
       "    </tr>\n",
       "    <tr>\n",
       "      <th>4</th>\n",
       "      <td>2008</td>\n",
       "      <td>30632298.65</td>\n",
       "      <td>6.407230e+13</td>\n",
       "      <td>6801421733</td>\n",
       "      <td>0.004504</td>\n",
       "      <td>9420.427451</td>\n",
       "      <td>3.560954e+07</td>\n",
       "    </tr>\n",
       "    <tr>\n",
       "      <th>5</th>\n",
       "      <td>2009</td>\n",
       "      <td>30238050.03</td>\n",
       "      <td>6.071830e+13</td>\n",
       "      <td>6885608628</td>\n",
       "      <td>0.004391</td>\n",
       "      <td>8818.145683</td>\n",
       "      <td>3.605031e+07</td>\n",
       "    </tr>\n",
       "    <tr>\n",
       "      <th>6</th>\n",
       "      <td>2010</td>\n",
       "      <td>32095872.94</td>\n",
       "      <td>6.651420e+13</td>\n",
       "      <td>6969894715</td>\n",
       "      <td>0.004605</td>\n",
       "      <td>9543.070982</td>\n",
       "      <td>3.649160e+07</td>\n",
       "    </tr>\n",
       "    <tr>\n",
       "      <th>7</th>\n",
       "      <td>2011</td>\n",
       "      <td>33079721.35</td>\n",
       "      <td>7.395780e+13</td>\n",
       "      <td>7053988749</td>\n",
       "      <td>0.004690</td>\n",
       "      <td>10484.536144</td>\n",
       "      <td>3.693188e+07</td>\n",
       "    </tr>\n",
       "    <tr>\n",
       "      <th>8</th>\n",
       "      <td>2012</td>\n",
       "      <td>33460087.50</td>\n",
       "      <td>7.560400e+13</td>\n",
       "      <td>7141430933</td>\n",
       "      <td>0.004685</td>\n",
       "      <td>10586.673835</td>\n",
       "      <td>3.738969e+07</td>\n",
       "    </tr>\n",
       "    <tr>\n",
       "      <th>9</th>\n",
       "      <td>2013</td>\n",
       "      <td>34119894.39</td>\n",
       "      <td>7.775140e+13</td>\n",
       "      <td>7229458453</td>\n",
       "      <td>0.004720</td>\n",
       "      <td>10754.802798</td>\n",
       "      <td>3.785057e+07</td>\n",
       "    </tr>\n",
       "    <tr>\n",
       "      <th>10</th>\n",
       "      <td>2014</td>\n",
       "      <td>34261369.66</td>\n",
       "      <td>7.989440e+13</td>\n",
       "      <td>7317304568</td>\n",
       "      <td>0.004682</td>\n",
       "      <td>10918.556042</td>\n",
       "      <td>3.831050e+07</td>\n",
       "    </tr>\n",
       "    <tr>\n",
       "      <th>11</th>\n",
       "      <td>2015</td>\n",
       "      <td>34070176.85</td>\n",
       "      <td>7.535970e+13</td>\n",
       "      <td>7404251118</td>\n",
       "      <td>0.004601</td>\n",
       "      <td>10177.896292</td>\n",
       "      <td>3.876571e+07</td>\n",
       "    </tr>\n",
       "    <tr>\n",
       "      <th>12</th>\n",
       "      <td>2016</td>\n",
       "      <td>34145652.30</td>\n",
       "      <td>7.658800e+13</td>\n",
       "      <td>7490956237</td>\n",
       "      <td>0.004558</td>\n",
       "      <td>10224.061866</td>\n",
       "      <td>3.921967e+07</td>\n",
       "    </tr>\n",
       "    <tr>\n",
       "      <th>13</th>\n",
       "      <td>2017</td>\n",
       "      <td>34687837.09</td>\n",
       "      <td>8.155100e+13</td>\n",
       "      <td>7577110140</td>\n",
       "      <td>0.004578</td>\n",
       "      <td>10762.810424</td>\n",
       "      <td>3.967073e+07</td>\n",
       "    </tr>\n",
       "    <tr>\n",
       "      <th>14</th>\n",
       "      <td>2018</td>\n",
       "      <td>35560555.79</td>\n",
       "      <td>8.668690e+13</td>\n",
       "      <td>7661177849</td>\n",
       "      <td>0.004642</td>\n",
       "      <td>11315.087798</td>\n",
       "      <td>4.011088e+07</td>\n",
       "    </tr>\n",
       "    <tr>\n",
       "      <th>15</th>\n",
       "      <td>2019</td>\n",
       "      <td>35477245.40</td>\n",
       "      <td>8.794560e+13</td>\n",
       "      <td>7742724795</td>\n",
       "      <td>0.004582</td>\n",
       "      <td>11358.481972</td>\n",
       "      <td>4.053783e+07</td>\n",
       "    </tr>\n",
       "  </tbody>\n",
       "</table>\n",
       "</div>"
      ],
      "text/plain": [
       "    Year  CO2 emissions (kt)  GDP (current US$)  Population, total  \\\n",
       "0   2004         27331852.94       4.411620e+13         6471033757   \n",
       "1   2005         28371817.05       4.776030e+13         6552787172   \n",
       "2   2006         29308175.54       5.174980e+13         6635162568   \n",
       "3   2007         30418994.07       5.831490e+13         6717583637   \n",
       "4   2008         30632298.65       6.407230e+13         6801421733   \n",
       "5   2009         30238050.03       6.071830e+13         6885608628   \n",
       "6   2010         32095872.94       6.651420e+13         6969894715   \n",
       "7   2011         33079721.35       7.395780e+13         7053988749   \n",
       "8   2012         33460087.50       7.560400e+13         7141430933   \n",
       "9   2013         34119894.39       7.775140e+13         7229458453   \n",
       "10  2014         34261369.66       7.989440e+13         7317304568   \n",
       "11  2015         34070176.85       7.535970e+13         7404251118   \n",
       "12  2016         34145652.30       7.658800e+13         7490956237   \n",
       "13  2017         34687837.09       8.155100e+13         7577110140   \n",
       "14  2018         35560555.79       8.668690e+13         7661177849   \n",
       "15  2019         35477245.40       8.794560e+13         7742724795   \n",
       "\n",
       "    CO2 per capita  GDP per capita  Population, average  \n",
       "0         0.004224     6817.488775         3.387976e+07  \n",
       "1         0.004330     7288.547414         3.430779e+07  \n",
       "2         0.004417     7799.326613         3.473907e+07  \n",
       "3         0.004528     8680.933971         3.517059e+07  \n",
       "4         0.004504     9420.427451         3.560954e+07  \n",
       "5         0.004391     8818.145683         3.605031e+07  \n",
       "6         0.004605     9543.070982         3.649160e+07  \n",
       "7         0.004690    10484.536144         3.693188e+07  \n",
       "8         0.004685    10586.673835         3.738969e+07  \n",
       "9         0.004720    10754.802798         3.785057e+07  \n",
       "10        0.004682    10918.556042         3.831050e+07  \n",
       "11        0.004601    10177.896292         3.876571e+07  \n",
       "12        0.004558    10224.061866         3.921967e+07  \n",
       "13        0.004578    10762.810424         3.967073e+07  \n",
       "14        0.004642    11315.087798         4.011088e+07  \n",
       "15        0.004582    11358.481972         4.053783e+07  "
      ]
     },
     "execution_count": 88,
     "metadata": {},
     "output_type": "execute_result"
    }
   ],
   "source": [
    "# Load original data again\n",
    "df_all=pd.read_csv('CO2_pivot_noCO2_930.csv')\n",
    "# Remove all 2020 rows\n",
    "df_all=df_all.drop(df_all[df_all['Year'] == 2020].index)\n",
    "\n",
    "# Create world df with year as first column\n",
    "all_years=df_all['Year'].unique()\n",
    "world=pd.DataFrame(all_years)\n",
    "world.columns=['Year']\n",
    "\n",
    "# Move all data from df_all to new world df\n",
    "world_co2=df_all[(df_all['Country Name']=='World')]['CO2 emissions (kt)']\n",
    "world_gdp=df_all[(df_all['Country Name']=='World')]['GDP (current US$)']\n",
    "world_pop=df_all[(df_all['Country Name']=='World')]['Population, total']\n",
    "world['CO2 emissions (kt)']= world_co2.values\n",
    "world['GDP (current US$)']= world_gdp.values\n",
    "world['Population, total']= world_pop.values\n",
    "\n",
    "# Calculate per capita values for world\n",
    "world['CO2 per capita']=world['CO2 emissions (kt)']/world['Population, total']\n",
    "world['GDP per capita']=world['GDP (current US$)']/world['Population, total']\n",
    "world['Population, average']=world['Population, total']/191\n",
    "\n",
    "world\n"
   ]
  },
  {
   "cell_type": "markdown",
   "metadata": {},
   "source": [
    "Calculate per capita values normalised against world per capita values in 2019, for CO2 and GDP.\n",
    "For Population normalise against the average countries population in 2019\n",
    "\n",
    "\n",
    "This makes the per capita values easier to compare when looking at different countries "
   ]
  },
  {
   "cell_type": "code",
   "execution_count": 89,
   "metadata": {},
   "outputs": [
    {
     "data": {
      "text/plain": [
       "3400    1.058811\n",
       "3401    1.076850\n",
       "3402    1.095207\n",
       "3403    1.115669\n",
       "3404    1.133611\n",
       "3405    1.143696\n",
       "3406    1.148974\n",
       "3407    1.153064\n",
       "3408    1.153813\n",
       "3409    1.150038\n",
       "3410    1.146605\n",
       "3411    1.145716\n",
       "3412    1.146684\n",
       "3413    1.149377\n",
       "3414    1.154422\n",
       "3415    1.162737\n",
       "Name: Population NORM, dtype: float64"
      ]
     },
     "execution_count": 89,
     "metadata": {},
     "output_type": "execute_result"
    }
   ],
   "source": [
    "df['CO2 per capita NORM']=df['CO2 per capita'].values/world[(world['Year']==2019)]['CO2 per capita'].values\n",
    "df['GDP per capita NORM']=df['GDP per capita'].values/world[(world['Year']==2019)]['GDP per capita'].values\n",
    "df['Population NORM']=df['Population, total'].values/world[(world['Year']==2019)]['Population, average'].values\n",
    "\n",
    "# Test country\n",
    "df[(df['Country Name']=='Spain')]['Population NORM']\n"
   ]
  },
  {
   "cell_type": "markdown",
   "metadata": {},
   "source": [
    "Create a scatter plot for CO2 per capita Normalised against World - GDP per capita Normalised against World for each country"
   ]
  },
  {
   "cell_type": "code",
   "execution_count": 132,
   "metadata": {},
   "outputs": [],
   "source": [
    "%%capture\n",
    "for count in countries:\n",
    "    GDP=df[(df['Country Name']==count)]['GDP per capita NORM']\n",
    "    CO2=df[(df['Country Name']==count)]['CO2 per capita NORM']\n",
    "    corr=corrlist[corrlist['Country Name']==count]['CO2 capita/GDP capita']\n",
    "    pl.scatter(GDP,CO2,label='r='+str(np.round(corr.iloc[0],2)))\n",
    "    pl.legend()\n",
    "    pl.title(count)\n",
    "    pl.ylabel('CO2 per capita/World CO2 per capita (2019)')\n",
    "    pl.xlabel('GDP per capita/World GDP per capita (2019)')\n",
    "    years=df[(df['Country Name']==count)]['Year']\n",
    "    for i,txt in enumerate(years):\n",
    "        pl.text(GDP.iloc[i],CO2.iloc[i],txt)\n",
    "    pl.savefig('Plots/CO2_GDP_capita_NORM Plots/'+ count +' CO2_GDP_capita_NORM.pdf')\n",
    "    pl.clf()"
   ]
  },
  {
   "cell_type": "markdown",
   "metadata": {},
   "source": [
    "Create a scatter plot for CO2 per capita Normalised against World - Population Normalised against average country size"
   ]
  },
  {
   "cell_type": "code",
   "execution_count": 133,
   "metadata": {},
   "outputs": [],
   "source": [
    "%%capture\n",
    "for count in countries:\n",
    "    POP=df[(df['Country Name']==count)]['Population NORM']\n",
    "    CO2=df[(df['Country Name']==count)]['CO2 per capita NORM']\n",
    "    corr=corrlist[corrlist['Country Name']==count]['CO2 capita/Pop']\n",
    "    pl.scatter(POP,CO2,label='r='+str(np.round(corr.iloc[0],2)))\n",
    "    pl.legend()\n",
    "    pl.title(count)\n",
    "    pl.ylabel('CO2 per capita/World CO2 per capita (2019)')\n",
    "    pl.xlabel('Pop/Average Pop(2019)')\n",
    "    years=df[(df['Country Name']==count)]['Year']\n",
    "    for i,txt in enumerate(years):\n",
    "        pl.text(POP.iloc[i],CO2.iloc[i],txt)\n",
    "    pl.savefig('Plots/CO2_POP_capita_NORM Plots/'+ count +' CO2_POP_capita_NORM.pdf')\n",
    "    pl.clf()"
   ]
  },
  {
   "cell_type": "markdown",
   "metadata": {},
   "source": [
    "Add a Column to Corrlist for GDP per capita in 2019."
   ]
  },
  {
   "cell_type": "code",
   "execution_count": 121,
   "metadata": {},
   "outputs": [
    {
     "data": {
      "text/html": [
       "<div>\n",
       "<style scoped>\n",
       "    .dataframe tbody tr th:only-of-type {\n",
       "        vertical-align: middle;\n",
       "    }\n",
       "\n",
       "    .dataframe tbody tr th {\n",
       "        vertical-align: top;\n",
       "    }\n",
       "\n",
       "    .dataframe thead th {\n",
       "        text-align: right;\n",
       "    }\n",
       "</style>\n",
       "<table border=\"1\" class=\"dataframe\">\n",
       "  <thead>\n",
       "    <tr style=\"text-align: right;\">\n",
       "      <th></th>\n",
       "      <th>Country Name</th>\n",
       "      <th>CO2/GDP</th>\n",
       "      <th>CO2/Pop</th>\n",
       "      <th>GDP/Pop</th>\n",
       "      <th>CO2 capita/GDP capita</th>\n",
       "      <th>CO2 capita/Pop</th>\n",
       "      <th>GDP capita/Pop</th>\n",
       "      <th>GDP capita NORM 2019</th>\n",
       "    </tr>\n",
       "  </thead>\n",
       "  <tbody>\n",
       "    <tr>\n",
       "      <th>0</th>\n",
       "      <td>Afghanistan</td>\n",
       "      <td>0.953843</td>\n",
       "      <td>0.845380</td>\n",
       "      <td>0.843792</td>\n",
       "      <td>0.931860</td>\n",
       "      <td>0.695727</td>\n",
       "      <td>0.644348</td>\n",
       "      <td>0.043821</td>\n",
       "    </tr>\n",
       "    <tr>\n",
       "      <th>1</th>\n",
       "      <td>Albania</td>\n",
       "      <td>0.728934</td>\n",
       "      <td>-0.799527</td>\n",
       "      <td>-0.892734</td>\n",
       "      <td>0.789627</td>\n",
       "      <td>-0.851255</td>\n",
       "      <td>-0.907889</td>\n",
       "      <td>0.475082</td>\n",
       "    </tr>\n",
       "    <tr>\n",
       "      <th>2</th>\n",
       "      <td>Algeria</td>\n",
       "      <td>0.694246</td>\n",
       "      <td>0.990865</td>\n",
       "      <td>0.658552</td>\n",
       "      <td>0.523238</td>\n",
       "      <td>0.965950</td>\n",
       "      <td>0.403453</td>\n",
       "      <td>0.398831</td>\n",
       "    </tr>\n",
       "    <tr>\n",
       "      <th>3</th>\n",
       "      <td>Andorra</td>\n",
       "      <td>0.394701</td>\n",
       "      <td>0.766787</td>\n",
       "      <td>0.209314</td>\n",
       "      <td>0.341128</td>\n",
       "      <td>0.259760</td>\n",
       "      <td>-0.169216</td>\n",
       "      <td>3.638567</td>\n",
       "    </tr>\n",
       "    <tr>\n",
       "      <th>4</th>\n",
       "      <td>Angola</td>\n",
       "      <td>0.578267</td>\n",
       "      <td>0.763355</td>\n",
       "      <td>0.350326</td>\n",
       "      <td>0.496977</td>\n",
       "      <td>0.023049</td>\n",
       "      <td>0.040203</td>\n",
       "      <td>0.192926</td>\n",
       "    </tr>\n",
       "    <tr>\n",
       "      <th>...</th>\n",
       "      <td>...</td>\n",
       "      <td>...</td>\n",
       "      <td>...</td>\n",
       "      <td>...</td>\n",
       "      <td>...</td>\n",
       "      <td>...</td>\n",
       "      <td>...</td>\n",
       "      <td>...</td>\n",
       "    </tr>\n",
       "    <tr>\n",
       "      <th>186</th>\n",
       "      <td>Venezuela, RB</td>\n",
       "      <td>0.846195</td>\n",
       "      <td>0.274444</td>\n",
       "      <td>0.946450</td>\n",
       "      <td>0.650695</td>\n",
       "      <td>-0.124547</td>\n",
       "      <td>0.930116</td>\n",
       "      <td>NaN</td>\n",
       "    </tr>\n",
       "    <tr>\n",
       "      <th>187</th>\n",
       "      <td>Viet Nam</td>\n",
       "      <td>0.950888</td>\n",
       "      <td>0.947778</td>\n",
       "      <td>0.995398</td>\n",
       "      <td>0.940201</td>\n",
       "      <td>0.946655</td>\n",
       "      <td>0.994372</td>\n",
       "      <td>0.307355</td>\n",
       "    </tr>\n",
       "    <tr>\n",
       "      <th>188</th>\n",
       "      <td>Yemen, Rep.</td>\n",
       "      <td>0.144301</td>\n",
       "      <td>-0.633956</td>\n",
       "      <td>0.580068</td>\n",
       "      <td>0.153092</td>\n",
       "      <td>-0.824813</td>\n",
       "      <td>0.319294</td>\n",
       "      <td>NaN</td>\n",
       "    </tr>\n",
       "    <tr>\n",
       "      <th>189</th>\n",
       "      <td>Zambia</td>\n",
       "      <td>0.687603</td>\n",
       "      <td>0.954729</td>\n",
       "      <td>0.814469</td>\n",
       "      <td>0.370114</td>\n",
       "      <td>0.935116</td>\n",
       "      <td>0.560745</td>\n",
       "      <td>0.111645</td>\n",
       "    </tr>\n",
       "    <tr>\n",
       "      <th>190</th>\n",
       "      <td>Zimbabwe</td>\n",
       "      <td>0.567106</td>\n",
       "      <td>0.376762</td>\n",
       "      <td>0.891280</td>\n",
       "      <td>0.130963</td>\n",
       "      <td>-0.182500</td>\n",
       "      <td>0.857845</td>\n",
       "      <td>0.125181</td>\n",
       "    </tr>\n",
       "  </tbody>\n",
       "</table>\n",
       "<p>191 rows × 8 columns</p>\n",
       "</div>"
      ],
      "text/plain": [
       "      Country Name   CO2/GDP   CO2/Pop   GDP/Pop  CO2 capita/GDP capita  \\\n",
       "0      Afghanistan  0.953843  0.845380  0.843792               0.931860   \n",
       "1          Albania  0.728934 -0.799527 -0.892734               0.789627   \n",
       "2          Algeria  0.694246  0.990865  0.658552               0.523238   \n",
       "3          Andorra  0.394701  0.766787  0.209314               0.341128   \n",
       "4           Angola  0.578267  0.763355  0.350326               0.496977   \n",
       "..             ...       ...       ...       ...                    ...   \n",
       "186  Venezuela, RB  0.846195  0.274444  0.946450               0.650695   \n",
       "187       Viet Nam  0.950888  0.947778  0.995398               0.940201   \n",
       "188    Yemen, Rep.  0.144301 -0.633956  0.580068               0.153092   \n",
       "189         Zambia  0.687603  0.954729  0.814469               0.370114   \n",
       "190       Zimbabwe  0.567106  0.376762  0.891280               0.130963   \n",
       "\n",
       "     CO2 capita/Pop  GDP capita/Pop  GDP capita NORM 2019  \n",
       "0          0.695727        0.644348              0.043821  \n",
       "1         -0.851255       -0.907889              0.475082  \n",
       "2          0.965950        0.403453              0.398831  \n",
       "3          0.259760       -0.169216              3.638567  \n",
       "4          0.023049        0.040203              0.192926  \n",
       "..              ...             ...                   ...  \n",
       "186       -0.124547        0.930116                   NaN  \n",
       "187        0.946655        0.994372              0.307355  \n",
       "188       -0.824813        0.319294                   NaN  \n",
       "189        0.935116        0.560745              0.111645  \n",
       "190       -0.182500        0.857845              0.125181  \n",
       "\n",
       "[191 rows x 8 columns]"
      ]
     },
     "execution_count": 121,
     "metadata": {},
     "output_type": "execute_result"
    }
   ],
   "source": [
    "gdp_capita_2019=[]\n",
    "\n",
    "\n",
    "for count in countries:\n",
    "    cor=df[(df['Country Name']==count) & (df['Year']==2019)]['GDP per capita NORM']\n",
    "    gdp_capita_2019.append(cor.values[0])\n",
    "\n",
    "corrlist['GDP capita NORM 2019']=gdp_capita_2019\n",
    "\n",
    "corrlist\n"
   ]
  },
  {
   "cell_type": "markdown",
   "metadata": {},
   "source": [
    "Plot Showing when CO2 and GDP become unlinked - Plot CO2/GDP_Corr against GDP_Capita_Norm"
   ]
  },
  {
   "cell_type": "code",
   "execution_count": 136,
   "metadata": {},
   "outputs": [
    {
     "name": "stderr",
     "output_type": "stream",
     "text": [
      "/var/folders/8j/2xw6vvr51bsczxp4p37711lx24bqhv/T/ipykernel_6416/3349275757.py:2: UserWarning: No artists with labels found to put in legend.  Note that artists whose label start with an underscore are ignored when legend() is called with no argument.\n",
      "  pl.legend()\n"
     ]
    },
    {
     "data": {
      "image/png": "[encoded data removed]",
      "text/plain": [
       "<Figure size 432x288 with 1 Axes>"
      ]
     },
     "metadata": {
      "needs_background": "light"
     },
     "output_type": "display_data"
    }
   ],
   "source": [
    "pl.scatter(corrlist['GDP capita NORM 2019'],corrlist['CO2 capita/GDP capita'])\n",
    "pl.legend()\n",
    "# pl.title()\n",
    "pl.ylabel('CO2 capita/GDP capita')\n",
    "pl.xlabel('GDP per capita normalised 2019')\n",
    "pl.savefig('Plots/CO2_GDP_Corr_GDP_capita_Norm_2019.pdf')"
   ]
  },
  {
   "cell_type": "markdown",
   "metadata": {},
   "source": [
    "### Correlation Matrix\n",
    "```\n",
    "DataFrame.corr(method='pearson', min_periods=1, numeric_only=False)\n",
    "```"
   ]
  },
  {
   "cell_type": "code",
   "execution_count": 97,
   "metadata": {},
   "outputs": [],
   "source": [
    "import seaborn as sb"
   ]
  },
  {
   "cell_type": "code",
   "execution_count": 98,
   "metadata": {},
   "outputs": [],
   "source": [
    "corr_matrix=df.corr()"
   ]
  },
  {
   "cell_type": "code",
   "execution_count": 99,
   "metadata": {},
   "outputs": [
    {
     "data": {
      "text/plain": [
       "<Axes: >"
      ]
     },
     "execution_count": 99,
     "metadata": {},
     "output_type": "execute_result"
    },
    {
     "data": {
      "image/png": "[encoded data removed]",
      "text/plain": [
       "<Figure size 432x288 with 2 Axes>"
      ]
     },
     "metadata": {
      "needs_background": "light"
     },
     "output_type": "display_data"
    }
   ],
   "source": [
    "sb.heatmap(corr_matrix.loc[:,['CO2 emissions (kt)']], cmap=\"Reds\", annot=True)"
   ]
  }
 ],
 "metadata": {
  "kernelspec": {
   "display_name": "base",
   "language": "python",
   "name": "python3"
  },
  "language_info": {
   "codemirror_mode": {
    "name": "ipython",
    "version": 3
   },
   "file_extension": ".py",
   "mimetype": "text/x-python",
   "name": "python",
   "nbconvert_exporter": "python",
   "pygments_lexer": "ipython3",
   "version": "3.9.11"
  }
 },
 "nbformat": 4,
 "nbformat_minor": 2
}
